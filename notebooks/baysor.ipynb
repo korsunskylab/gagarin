{
 "cells": [
  {
   "cell_type": "code",
   "execution_count": 4,
   "id": "c8eb5425-a3fd-46b3-a091-c06b99b7fe6a",
   "metadata": {},
   "outputs": [],
   "source": [
    "suppressPackageStartupMessages({\n",
    "    library(sf)\n",
    "    # library(spatula)\n",
    "    library(ggthemes)\n",
    "    library(purrr)\n",
    "    library(glue)\n",
    "    library(furrr)\n",
    "    library(sfarrow)\n",
    "    library(future)\n",
    "    library(dplyr)\n",
    "    library(data.table)\n",
    "    library(ggplot2)\n",
    "    library(igraph)\n",
    "    library(Rcpp)\n",
    "})\n",
    "\n",
    "\n",
    "fig.size <- function(h, w) {\n",
    "    options(repr.plot.height = h, repr.plot.width = w)\n",
    "}"
   ]
  },
  {
   "cell_type": "code",
   "execution_count": 52,
   "id": "5d5b1202-22db-4feb-9afe-a97dc3b35592",
   "metadata": {},
   "outputs": [],
   "source": [
    "# devtools::load_all('..')"
   ]
  },
  {
   "cell_type": "code",
   "execution_count": 2,
   "id": "a6b94c5b-8bc3-45f3-b38b-05fdcc6410ec",
   "metadata": {},
   "outputs": [
    {
     "name": "stderr",
     "output_type": "stream",
     "text": [
      "\u001b[36mℹ\u001b[39m Updating \u001b[34m\u001b[34mspatula\u001b[34m\u001b[39m documentation\n",
      "\n",
      "\u001b[36mℹ\u001b[39m Loading \u001b[34m\u001b[34mspatula\u001b[34m\u001b[39m\n",
      "\n",
      "Warning message:\n",
      "“infer_polygons.Rd is missing name/title. Skipping”\n"
     ]
    },
    {
     "name": "stdout",
     "output_type": "stream",
     "text": [
      "Writing NAMESPACE\n"
     ]
    }
   ],
   "source": [
    "devtools::document('..')"
   ]
  },
  {
   "cell_type": "code",
   "execution_count": 1,
   "id": "b0c627f2-9524-4aca-ad8c-ec6781c0effa",
   "metadata": {},
   "outputs": [
    {
     "name": "stderr",
     "output_type": "stream",
     "text": [
      "\u001b[36mℹ\u001b[39m Updating \u001b[34m\u001b[34mspatula\u001b[34m\u001b[39m documentation\n",
      "\n",
      "\u001b[36mℹ\u001b[39m Loading \u001b[34m\u001b[34mspatula\u001b[34m\u001b[39m\n",
      "\n",
      "Loading required package: Rcpp\n",
      "\n",
      "Loading required package: RcppArmadillo\n",
      "\n"
     ]
    }
   ],
   "source": [
    "## git add . --all\n",
    "## git commit -m '...'\n",
    "devtools::install_git('..')"
   ]
  },
  {
   "cell_type": "markdown",
   "id": "cd7fd533-496e-431a-a95b-21a0f98f8996",
   "metadata": {},
   "source": [
    "# Data"
   ]
  },
  {
   "cell_type": "code",
   "execution_count": 43,
   "id": "3c655436-cb8b-4cf2-bbde-68aa06f8b37b",
   "metadata": {},
   "outputs": [],
   "source": [
    "load('../data/spatula_cosmx.rda')"
   ]
  },
  {
   "cell_type": "code",
   "execution_count": 44,
   "id": "b59e1116-ba47-4b9c-abc5-12d4f43dcd66",
   "metadata": {},
   "outputs": [
    {
     "data": {
      "text/html": [
       "<table class=\"dataframe\">\n",
       "<caption>A data.table: 6 × 4</caption>\n",
       "<thead>\n",
       "\t<tr><th scope=col>gene</th><th scope=col>cell</th><th scope=col>x</th><th scope=col>y</th></tr>\n",
       "\t<tr><th scope=col>&lt;chr&gt;</th><th scope=col>&lt;int&gt;</th><th scope=col>&lt;dbl&gt;</th><th scope=col>&lt;dbl&gt;</th></tr>\n",
       "</thead>\n",
       "<tbody>\n",
       "\t<tr><td>KRT86</td><td>   0</td><td>357.8340</td><td>232.1760</td></tr>\n",
       "\t<tr><td>KRT86</td><td>2642</td><td>499.2180</td><td>222.3600</td></tr>\n",
       "\t<tr><td>KRT86</td><td>1024</td><td>498.4053</td><td>315.8624</td></tr>\n",
       "\t<tr><td>KRT86</td><td>   0</td><td>379.0131</td><td>365.4386</td></tr>\n",
       "\t<tr><td>KRT86</td><td>1097</td><td>446.7708</td><td>294.9840</td></tr>\n",
       "\t<tr><td>KRT86</td><td>1343</td><td>424.6807</td><td>224.5995</td></tr>\n",
       "</tbody>\n",
       "</table>\n"
      ],
      "text/latex": [
       "A data.table: 6 × 4\n",
       "\\begin{tabular}{llll}\n",
       " gene & cell & x & y\\\\\n",
       " <chr> & <int> & <dbl> & <dbl>\\\\\n",
       "\\hline\n",
       "\t KRT86 &    0 & 357.8340 & 232.1760\\\\\n",
       "\t KRT86 & 2642 & 499.2180 & 222.3600\\\\\n",
       "\t KRT86 & 1024 & 498.4053 & 315.8624\\\\\n",
       "\t KRT86 &    0 & 379.0131 & 365.4386\\\\\n",
       "\t KRT86 & 1097 & 446.7708 & 294.9840\\\\\n",
       "\t KRT86 & 1343 & 424.6807 & 224.5995\\\\\n",
       "\\end{tabular}\n"
      ],
      "text/markdown": [
       "\n",
       "A data.table: 6 × 4\n",
       "\n",
       "| gene &lt;chr&gt; | cell &lt;int&gt; | x &lt;dbl&gt; | y &lt;dbl&gt; |\n",
       "|---|---|---|---|\n",
       "| KRT86 |    0 | 357.8340 | 232.1760 |\n",
       "| KRT86 | 2642 | 499.2180 | 222.3600 |\n",
       "| KRT86 | 1024 | 498.4053 | 315.8624 |\n",
       "| KRT86 |    0 | 379.0131 | 365.4386 |\n",
       "| KRT86 | 1097 | 446.7708 | 294.9840 |\n",
       "| KRT86 | 1343 | 424.6807 | 224.5995 |\n",
       "\n"
      ],
      "text/plain": [
       "  gene  cell x        y       \n",
       "1 KRT86    0 357.8340 232.1760\n",
       "2 KRT86 2642 499.2180 222.3600\n",
       "3 KRT86 1024 498.4053 315.8624\n",
       "4 KRT86    0 379.0131 365.4386\n",
       "5 KRT86 1097 446.7708 294.9840\n",
       "6 KRT86 1343 424.6807 224.5995"
      ]
     },
     "metadata": {},
     "output_type": "display_data"
    },
    {
     "data": {
      "text/html": [
       "153214"
      ],
      "text/latex": [
       "153214"
      ],
      "text/markdown": [
       "153214"
      ],
      "text/plain": [
       "[1] 153214"
      ]
     },
     "metadata": {},
     "output_type": "display_data"
    }
   ],
   "source": [
    "head(tx)\n",
    "nrow(tx)"
   ]
  },
  {
   "cell_type": "code",
   "execution_count": 45,
   "id": "834a358b-e620-48f3-8fd3-b45a17f16b8f",
   "metadata": {},
   "outputs": [
    {
     "data": {
      "text/html": [
       "<table class=\"dataframe\">\n",
       "<caption>A data.frame: 6 × 7</caption>\n",
       "<thead>\n",
       "\t<tr><th></th><th scope=col>id</th><th scope=col>shape</th><th scope=col>neighborhood</th><th scope=col>ntx_cell</th><th scope=col>ngene_cell</th><th scope=col>ntx_neighbors</th><th scope=col>ngene_neighbors</th></tr>\n",
       "\t<tr><th></th><th scope=col>&lt;chr&gt;</th><th scope=col>&lt;POLYGON&gt;</th><th scope=col>&lt;POLYGON&gt;</th><th scope=col>&lt;dbl&gt;</th><th scope=col>&lt;int&gt;</th><th scope=col>&lt;dbl&gt;</th><th scope=col>&lt;int&gt;</th></tr>\n",
       "</thead>\n",
       "<tbody>\n",
       "\t<tr><th scope=row>1</th><td>920</td><td>POLYGON ((492.0364 347.7475...</td><td>POLYGON ((469.1623 366.1447...</td><td>539</td><td>198</td><td>6814</td><td>726</td></tr>\n",
       "\t<tr><th scope=row>2</th><td>923</td><td>POLYGON ((362.5765 349.5369...</td><td>POLYGON ((339.2242 352.7786...</td><td>236</td><td>128</td><td>4567</td><td>682</td></tr>\n",
       "\t<tr><th scope=row>3</th><td>935</td><td>POLYGON ((409.3373 349.9752...</td><td>POLYGON ((384.419 356.0701,...</td><td>476</td><td>187</td><td>6660</td><td>759</td></tr>\n",
       "\t<tr><th scope=row>4</th><td>946</td><td>POLYGON ((520.715 338.3761,...</td><td>POLYGON ((500.3057 334.5539...</td><td>516</td><td>183</td><td>7683</td><td>737</td></tr>\n",
       "\t<tr><th scope=row>5</th><td>953</td><td>POLYGON ((497.6366 348.2479...</td><td>POLYGON ((473.1845 337.8278...</td><td>233</td><td>114</td><td>7025</td><td>720</td></tr>\n",
       "\t<tr><th scope=row>6</th><td>956</td><td>POLYGON ((414.061 334.1596,...</td><td>POLYGON ((406.544 315.5595,...</td><td>800</td><td>283</td><td>7990</td><td>771</td></tr>\n",
       "</tbody>\n",
       "</table>\n"
      ],
      "text/latex": [
       "A data.frame: 6 × 7\n",
       "\\begin{tabular}{r|lllllll}\n",
       "  & id & shape & neighborhood & ntx\\_cell & ngene\\_cell & ntx\\_neighbors & ngene\\_neighbors\\\\\n",
       "  & <chr> & <POLYGON> & <POLYGON> & <dbl> & <int> & <dbl> & <int>\\\\\n",
       "\\hline\n",
       "\t1 & 920 & POLYGON ((492.0364 347.7475... & POLYGON ((469.1623 366.1447... & 539 & 198 & 6814 & 726\\\\\n",
       "\t2 & 923 & POLYGON ((362.5765 349.5369... & POLYGON ((339.2242 352.7786... & 236 & 128 & 4567 & 682\\\\\n",
       "\t3 & 935 & POLYGON ((409.3373 349.9752... & POLYGON ((384.419 356.0701,... & 476 & 187 & 6660 & 759\\\\\n",
       "\t4 & 946 & POLYGON ((520.715 338.3761,... & POLYGON ((500.3057 334.5539... & 516 & 183 & 7683 & 737\\\\\n",
       "\t5 & 953 & POLYGON ((497.6366 348.2479... & POLYGON ((473.1845 337.8278... & 233 & 114 & 7025 & 720\\\\\n",
       "\t6 & 956 & POLYGON ((414.061 334.1596,... & POLYGON ((406.544 315.5595,... & 800 & 283 & 7990 & 771\\\\\n",
       "\\end{tabular}\n"
      ],
      "text/markdown": [
       "\n",
       "A data.frame: 6 × 7\n",
       "\n",
       "| <!--/--> | id &lt;chr&gt; | shape &lt;POLYGON&gt; | neighborhood &lt;POLYGON&gt; | ntx_cell &lt;dbl&gt; | ngene_cell &lt;int&gt; | ntx_neighbors &lt;dbl&gt; | ngene_neighbors &lt;int&gt; |\n",
       "|---|---|---|---|---|---|---|---|\n",
       "| 1 | 920 | POLYGON ((492.0364 347.7475... | POLYGON ((469.1623 366.1447... | 539 | 198 | 6814 | 726 |\n",
       "| 2 | 923 | POLYGON ((362.5765 349.5369... | POLYGON ((339.2242 352.7786... | 236 | 128 | 4567 | 682 |\n",
       "| 3 | 935 | POLYGON ((409.3373 349.9752... | POLYGON ((384.419 356.0701,... | 476 | 187 | 6660 | 759 |\n",
       "| 4 | 946 | POLYGON ((520.715 338.3761,... | POLYGON ((500.3057 334.5539... | 516 | 183 | 7683 | 737 |\n",
       "| 5 | 953 | POLYGON ((497.6366 348.2479... | POLYGON ((473.1845 337.8278... | 233 | 114 | 7025 | 720 |\n",
       "| 6 | 956 | POLYGON ((414.061 334.1596,... | POLYGON ((406.544 315.5595,... | 800 | 283 | 7990 | 771 |\n",
       "\n"
      ],
      "text/plain": [
       "  id  shape                          neighborhood                   ntx_cell\n",
       "1 920 POLYGON ((492.0364 347.7475... POLYGON ((469.1623 366.1447... 539     \n",
       "2 923 POLYGON ((362.5765 349.5369... POLYGON ((339.2242 352.7786... 236     \n",
       "3 935 POLYGON ((409.3373 349.9752... POLYGON ((384.419 356.0701,... 476     \n",
       "4 946 POLYGON ((520.715 338.3761,... POLYGON ((500.3057 334.5539... 516     \n",
       "5 953 POLYGON ((497.6366 348.2479... POLYGON ((473.1845 337.8278... 233     \n",
       "6 956 POLYGON ((414.061 334.1596,... POLYGON ((406.544 315.5595,... 800     \n",
       "  ngene_cell ntx_neighbors ngene_neighbors\n",
       "1 198        6814          726            \n",
       "2 128        4567          682            \n",
       "3 187        6660          759            \n",
       "4 183        7683          737            \n",
       "5 114        7025          720            \n",
       "6 283        7990          771            "
      ]
     },
     "metadata": {},
     "output_type": "display_data"
    },
    {
     "data": {
      "text/html": [
       "202"
      ],
      "text/latex": [
       "202"
      ],
      "text/markdown": [
       "202"
      ],
      "text/plain": [
       "[1] 202"
      ]
     },
     "metadata": {},
     "output_type": "display_data"
    }
   ],
   "source": [
    "data.frame(head(cells))\n",
    "nrow(cells)"
   ]
  },
  {
   "cell_type": "markdown",
   "id": "833a64ab-7568-4eab-9bf4-ec8bf16ebe01",
   "metadata": {},
   "source": [
    "# Run it "
   ]
  },
  {
   "cell_type": "code",
   "execution_count": 46,
   "id": "e7ced445-3e2c-4b6a-8177-cc206b8fc8a5",
   "metadata": {},
   "outputs": [],
   "source": [
    "output_dir='tmp'\n",
    "fname_baysor_config='config.toml'\n",
    "# baysor_binary='/n/data1/bwh/medicine/korsunsky/lab/rom4535/software/baysor'\n",
    "opts = list(\n",
    "    baysor_mode = 'docker', ## baysor can be run through docker container or natively installed binary \n",
    "    max_tx_per_grid = 10000, ## maximum number of transcripts per tile \n",
    "    compute_shapes = TRUE, \n",
    "    max_parallel_jobs = 60, ## maximum number of concurrent Baysor jobs running \n",
    "    min_tx_per_cell = 10, \n",
    "    remove_temp_files = TRUE ## set to FALSE for debugging \n",
    ")\n",
    "\n",
    "# baysor.run_baysor_tiles_binary <- function(ntiles, output_dir, fname_baysor_config, max_parallel_jobs) {\n",
    "\n",
    "# }\n"
   ]
  },
  {
   "cell_type": "code",
   "execution_count": 47,
   "id": "f6eddd12-4051-4140-b728-02e94a68f364",
   "metadata": {},
   "outputs": [],
   "source": [
    "ntiles <- baysor.split_tx_files(output_dir, opts$max_tx_per_grid) \n",
    "baysor.prepare_cmds(ntiles, output_dir, fname_baysor_config, opts$max_parallel_jobs)\n",
    "baysor.run_baysor_tiles_docker(ntiles, output_dir, fname_baysor_config, max_parallel_jobs=opts$max_parallel_jobs) \n"
   ]
  },
  {
   "cell_type": "code",
   "execution_count": 51,
   "id": "9ade9705-91b5-46e6-b131-a346150326b3",
   "metadata": {},
   "outputs": [
    {
     "name": "stderr",
     "output_type": "stream",
     "text": [
      "Warning message:\n",
      "“This is an initial implementation of Parquet/Feather file support and\n",
      "geo metadata. This is tracking version 0.1.0 of the metadata\n",
      "(https://github.com/geopandas/geo-arrow-spec). This metadata\n",
      "specification may change and does not yet make stability promises.  We\n",
      "do not yet recommend using this in a production setting unless you are\n",
      "able to rewrite your Parquet/Feather files.”\n"
     ]
    }
   ],
   "source": [
    "tx <- baysor.collect_tx(output_dir, testing=FALSE, mintx=opts$min_tx_per_cell) \n",
    "counts <- tx_to_counts(tx$gene, tx$cell, remove_bg = TRUE)\n",
    "cells <- baysor.collect_cells(tx, opts$min_tx_per_cell)\n",
    "environment(baysor.finish) <- environment() \n",
    "baysor.finish() "
   ]
  },
  {
   "cell_type": "code",
   "execution_count": 67,
   "id": "96b63933-8489-4093-97ab-c883cd5d0144",
   "metadata": {},
   "outputs": [
    {
     "data": {
      "text/html": [
       "<style>\n",
       ".list-inline {list-style: none; margin:0; padding: 0}\n",
       ".list-inline>li {display: inline-block}\n",
       ".list-inline>li:not(:last-child)::after {content: \"\\00b7\"; padding: 0 .5ex}\n",
       "</style>\n",
       "<ol class=list-inline><li>'cells.csv'</li><li>'counts.mtx'</li><li>'genes.tsv'</li><li>'shapes.parquet'</li><li>'transcripts.csv'</li></ol>\n"
      ],
      "text/latex": [
       "\\begin{enumerate*}\n",
       "\\item 'cells.csv'\n",
       "\\item 'counts.mtx'\n",
       "\\item 'genes.tsv'\n",
       "\\item 'shapes.parquet'\n",
       "\\item 'transcripts.csv'\n",
       "\\end{enumerate*}\n"
      ],
      "text/markdown": [
       "1. 'cells.csv'\n",
       "2. 'counts.mtx'\n",
       "3. 'genes.tsv'\n",
       "4. 'shapes.parquet'\n",
       "5. 'transcripts.csv'\n",
       "\n",
       "\n"
      ],
      "text/plain": [
       "[1] \"cells.csv\"       \"counts.mtx\"      \"genes.tsv\"       \"shapes.parquet\" \n",
       "[5] \"transcripts.csv\""
      ]
     },
     "metadata": {},
     "output_type": "display_data"
    },
    {
     "data": {
      "text/html": [
       "<table class=\"dataframe\">\n",
       "<caption>A data.frame: 5 × 2</caption>\n",
       "<thead>\n",
       "\t<tr><th></th><th scope=col>id</th><th scope=col>shape</th></tr>\n",
       "\t<tr><th></th><th scope=col>&lt;chr&gt;</th><th scope=col>&lt;POLYGON&gt;</th></tr>\n",
       "</thead>\n",
       "<tbody>\n",
       "\t<tr><th scope=row>1</th><td>1</td><td>POLYGON ((351.9471 171.8564...</td></tr>\n",
       "\t<tr><th scope=row>2</th><td>2</td><td>POLYGON ((363.3103 178.4181...</td></tr>\n",
       "\t<tr><th scope=row>3</th><td>3</td><td>POLYGON ((353.7744 196.3305...</td></tr>\n",
       "\t<tr><th scope=row>4</th><td>4</td><td>POLYGON ((370.3212 194.9418...</td></tr>\n",
       "\t<tr><th scope=row>5</th><td>5</td><td>POLYGON ((378.1629 171.154,...</td></tr>\n",
       "</tbody>\n",
       "</table>\n"
      ],
      "text/latex": [
       "A data.frame: 5 × 2\n",
       "\\begin{tabular}{r|ll}\n",
       "  & id & shape\\\\\n",
       "  & <chr> & <POLYGON>\\\\\n",
       "\\hline\n",
       "\t1 & 1 & POLYGON ((351.9471 171.8564...\\\\\n",
       "\t2 & 2 & POLYGON ((363.3103 178.4181...\\\\\n",
       "\t3 & 3 & POLYGON ((353.7744 196.3305...\\\\\n",
       "\t4 & 4 & POLYGON ((370.3212 194.9418...\\\\\n",
       "\t5 & 5 & POLYGON ((378.1629 171.154,...\\\\\n",
       "\\end{tabular}\n"
      ],
      "text/markdown": [
       "\n",
       "A data.frame: 5 × 2\n",
       "\n",
       "| <!--/--> | id &lt;chr&gt; | shape &lt;POLYGON&gt; |\n",
       "|---|---|---|\n",
       "| 1 | 1 | POLYGON ((351.9471 171.8564... |\n",
       "| 2 | 2 | POLYGON ((363.3103 178.4181... |\n",
       "| 3 | 3 | POLYGON ((353.7744 196.3305... |\n",
       "| 4 | 4 | POLYGON ((370.3212 194.9418... |\n",
       "| 5 | 5 | POLYGON ((378.1629 171.154,... |\n",
       "\n"
      ],
      "text/plain": [
       "  id shape                         \n",
       "1 1  POLYGON ((351.9471 171.8564...\n",
       "2 2  POLYGON ((363.3103 178.4181...\n",
       "3 3  POLYGON ((353.7744 196.3305...\n",
       "4 4  POLYGON ((370.3212 194.9418...\n",
       "5 5  POLYGON ((378.1629 171.154,..."
      ]
     },
     "metadata": {},
     "output_type": "display_data"
    },
    {
     "data": {
      "text/html": [
       "<table class=\"dataframe\">\n",
       "<caption>A data.table: 5 × 8</caption>\n",
       "<thead>\n",
       "\t<tr><th scope=col>id</th><th scope=col>x</th><th scope=col>y</th><th scope=col>area</th><th scope=col>n_transcripts</th><th scope=col>avg_confidence</th><th scope=col>cluster</th><th scope=col>rand_color</th></tr>\n",
       "\t<tr><th scope=col>&lt;int&gt;</th><th scope=col>&lt;dbl&gt;</th><th scope=col>&lt;dbl&gt;</th><th scope=col>&lt;dbl&gt;</th><th scope=col>&lt;int&gt;</th><th scope=col>&lt;dbl&gt;</th><th scope=col>&lt;int&gt;</th><th scope=col>&lt;chr&gt;</th></tr>\n",
       "</thead>\n",
       "<tbody>\n",
       "\t<tr><td>1</td><td>355.8171</td><td>178.7981</td><td> 92.126717</td><td>672</td><td>0.8633929</td><td>3</td><td>#e377c2</td></tr>\n",
       "\t<tr><td>2</td><td>366.9396</td><td>183.4787</td><td>101.011793</td><td>411</td><td>0.8758637</td><td>4</td><td>#ff9896</td></tr>\n",
       "\t<tr><td>3</td><td>355.1113</td><td>197.5212</td><td>  5.415452</td><td> 24</td><td>0.8175000</td><td>2</td><td>#9edae5</td></tr>\n",
       "\t<tr><td>4</td><td>363.0144</td><td>194.3561</td><td>155.102557</td><td>449</td><td>0.7912249</td><td>3</td><td>#9edae5</td></tr>\n",
       "\t<tr><td>5</td><td>379.5477</td><td>178.3871</td><td>124.073594</td><td>793</td><td>0.8587390</td><td>3</td><td>#1f77b4</td></tr>\n",
       "</tbody>\n",
       "</table>\n"
      ],
      "text/latex": [
       "A data.table: 5 × 8\n",
       "\\begin{tabular}{llllllll}\n",
       " id & x & y & area & n\\_transcripts & avg\\_confidence & cluster & rand\\_color\\\\\n",
       " <int> & <dbl> & <dbl> & <dbl> & <int> & <dbl> & <int> & <chr>\\\\\n",
       "\\hline\n",
       "\t 1 & 355.8171 & 178.7981 &  92.126717 & 672 & 0.8633929 & 3 & \\#e377c2\\\\\n",
       "\t 2 & 366.9396 & 183.4787 & 101.011793 & 411 & 0.8758637 & 4 & \\#ff9896\\\\\n",
       "\t 3 & 355.1113 & 197.5212 &   5.415452 &  24 & 0.8175000 & 2 & \\#9edae5\\\\\n",
       "\t 4 & 363.0144 & 194.3561 & 155.102557 & 449 & 0.7912249 & 3 & \\#9edae5\\\\\n",
       "\t 5 & 379.5477 & 178.3871 & 124.073594 & 793 & 0.8587390 & 3 & \\#1f77b4\\\\\n",
       "\\end{tabular}\n"
      ],
      "text/markdown": [
       "\n",
       "A data.table: 5 × 8\n",
       "\n",
       "| id &lt;int&gt; | x &lt;dbl&gt; | y &lt;dbl&gt; | area &lt;dbl&gt; | n_transcripts &lt;int&gt; | avg_confidence &lt;dbl&gt; | cluster &lt;int&gt; | rand_color &lt;chr&gt; |\n",
       "|---|---|---|---|---|---|---|---|\n",
       "| 1 | 355.8171 | 178.7981 |  92.126717 | 672 | 0.8633929 | 3 | #e377c2 |\n",
       "| 2 | 366.9396 | 183.4787 | 101.011793 | 411 | 0.8758637 | 4 | #ff9896 |\n",
       "| 3 | 355.1113 | 197.5212 |   5.415452 |  24 | 0.8175000 | 2 | #9edae5 |\n",
       "| 4 | 363.0144 | 194.3561 | 155.102557 | 449 | 0.7912249 | 3 | #9edae5 |\n",
       "| 5 | 379.5477 | 178.3871 | 124.073594 | 793 | 0.8587390 | 3 | #1f77b4 |\n",
       "\n"
      ],
      "text/plain": [
       "  id x        y        area       n_transcripts avg_confidence cluster\n",
       "1 1  355.8171 178.7981  92.126717 672           0.8633929      3      \n",
       "2 2  366.9396 183.4787 101.011793 411           0.8758637      4      \n",
       "3 3  355.1113 197.5212   5.415452  24           0.8175000      2      \n",
       "4 4  363.0144 194.3561 155.102557 449           0.7912249      3      \n",
       "5 5  379.5477 178.3871 124.073594 793           0.8587390      3      \n",
       "  rand_color\n",
       "1 #e377c2   \n",
       "2 #ff9896   \n",
       "3 #9edae5   \n",
       "4 #9edae5   \n",
       "5 #1f77b4   "
      ]
     },
     "metadata": {},
     "output_type": "display_data"
    },
    {
     "data": {
      "text/plain": [
       "5 x 5 sparse Matrix of class \"dgCMatrix\"\n",
       "              \n",
       "[1,] . . . . .\n",
       "[2,] . . . . .\n",
       "[3,] . . . . .\n",
       "[4,] . . . . .\n",
       "[5,] . 1 . . ."
      ]
     },
     "metadata": {},
     "output_type": "display_data"
    },
    {
     "data": {
      "text/html": [
       "<style>\n",
       ".list-inline {list-style: none; margin:0; padding: 0}\n",
       ".list-inline>li {display: inline-block}\n",
       ".list-inline>li:not(:last-child)::after {content: \"\\00b7\"; padding: 0 .5ex}\n",
       "</style>\n",
       "<ol class=list-inline><li>'AATK'</li><li>'ABL1'</li><li>'ABL2'</li><li>'ACE'</li><li>'ACE2'</li></ol>\n"
      ],
      "text/latex": [
       "\\begin{enumerate*}\n",
       "\\item 'AATK'\n",
       "\\item 'ABL1'\n",
       "\\item 'ABL2'\n",
       "\\item 'ACE'\n",
       "\\item 'ACE2'\n",
       "\\end{enumerate*}\n"
      ],
      "text/markdown": [
       "1. 'AATK'\n",
       "2. 'ABL1'\n",
       "3. 'ABL2'\n",
       "4. 'ACE'\n",
       "5. 'ACE2'\n",
       "\n",
       "\n"
      ],
      "text/plain": [
       "[1] \"AATK\" \"ABL1\" \"ABL2\" \"ACE\"  \"ACE2\""
      ]
     },
     "metadata": {},
     "output_type": "display_data"
    },
    {
     "data": {
      "text/html": [
       "<table class=\"dataframe\">\n",
       "<caption>A data.table: 5 × 12</caption>\n",
       "<thead>\n",
       "\t<tr><th scope=col>gene</th><th scope=col>cell</th><th scope=col>x</th><th scope=col>y</th><th scope=col>molecule_id</th><th scope=col>prior_segmentation</th><th scope=col>confidence</th><th scope=col>cluster</th><th scope=col>assignment_confidence</th><th scope=col>is_noise</th><th scope=col>ncv_color</th><th scope=col>N</th></tr>\n",
       "\t<tr><th scope=col>&lt;chr&gt;</th><th scope=col>&lt;int&gt;</th><th scope=col>&lt;dbl&gt;</th><th scope=col>&lt;dbl&gt;</th><th scope=col>&lt;int&gt;</th><th scope=col>&lt;int&gt;</th><th scope=col>&lt;dbl&gt;</th><th scope=col>&lt;int&gt;</th><th scope=col>&lt;dbl&gt;</th><th scope=col>&lt;lgl&gt;</th><th scope=col>&lt;chr&gt;</th><th scope=col>&lt;int&gt;</th></tr>\n",
       "</thead>\n",
       "<tbody>\n",
       "\t<tr><td>KRT86</td><td> 8</td><td>381.2092</td><td>197.3803</td><td>1</td><td>2689</td><td>0.99996</td><td>1</td><td>0.92</td><td>FALSE</td><td>#00B7D3</td><td>205</td></tr>\n",
       "\t<tr><td>KRT86</td><td>16</td><td>388.4400</td><td>219.5220</td><td>2</td><td>1366</td><td>1.00000</td><td>1</td><td>1.00</td><td>FALSE</td><td>#009BD9</td><td>226</td></tr>\n",
       "\t<tr><td>KRT86</td><td>15</td><td>378.7273</td><td>216.1332</td><td>3</td><td>1361</td><td>0.99998</td><td>3</td><td>0.48</td><td>FALSE</td><td>#002F45</td><td>462</td></tr>\n",
       "\t<tr><td>KRT86</td><td>16</td><td>389.6978</td><td>215.4735</td><td>4</td><td>1366</td><td>1.00000</td><td>1</td><td>0.94</td><td>FALSE</td><td>#0083AA</td><td>226</td></tr>\n",
       "\t<tr><td>BECN1</td><td> 7</td><td>386.7510</td><td>177.4740</td><td>5</td><td>   0</td><td>1.00000</td><td>3</td><td>0.56</td><td>FALSE</td><td>#730E7E</td><td>600</td></tr>\n",
       "</tbody>\n",
       "</table>\n"
      ],
      "text/latex": [
       "A data.table: 5 × 12\n",
       "\\begin{tabular}{llllllllllll}\n",
       " gene & cell & x & y & molecule\\_id & prior\\_segmentation & confidence & cluster & assignment\\_confidence & is\\_noise & ncv\\_color & N\\\\\n",
       " <chr> & <int> & <dbl> & <dbl> & <int> & <int> & <dbl> & <int> & <dbl> & <lgl> & <chr> & <int>\\\\\n",
       "\\hline\n",
       "\t KRT86 &  8 & 381.2092 & 197.3803 & 1 & 2689 & 0.99996 & 1 & 0.92 & FALSE & \\#00B7D3 & 205\\\\\n",
       "\t KRT86 & 16 & 388.4400 & 219.5220 & 2 & 1366 & 1.00000 & 1 & 1.00 & FALSE & \\#009BD9 & 226\\\\\n",
       "\t KRT86 & 15 & 378.7273 & 216.1332 & 3 & 1361 & 0.99998 & 3 & 0.48 & FALSE & \\#002F45 & 462\\\\\n",
       "\t KRT86 & 16 & 389.6978 & 215.4735 & 4 & 1366 & 1.00000 & 1 & 0.94 & FALSE & \\#0083AA & 226\\\\\n",
       "\t BECN1 &  7 & 386.7510 & 177.4740 & 5 &    0 & 1.00000 & 3 & 0.56 & FALSE & \\#730E7E & 600\\\\\n",
       "\\end{tabular}\n"
      ],
      "text/markdown": [
       "\n",
       "A data.table: 5 × 12\n",
       "\n",
       "| gene &lt;chr&gt; | cell &lt;int&gt; | x &lt;dbl&gt; | y &lt;dbl&gt; | molecule_id &lt;int&gt; | prior_segmentation &lt;int&gt; | confidence &lt;dbl&gt; | cluster &lt;int&gt; | assignment_confidence &lt;dbl&gt; | is_noise &lt;lgl&gt; | ncv_color &lt;chr&gt; | N &lt;int&gt; |\n",
       "|---|---|---|---|---|---|---|---|---|---|---|---|\n",
       "| KRT86 |  8 | 381.2092 | 197.3803 | 1 | 2689 | 0.99996 | 1 | 0.92 | FALSE | #00B7D3 | 205 |\n",
       "| KRT86 | 16 | 388.4400 | 219.5220 | 2 | 1366 | 1.00000 | 1 | 1.00 | FALSE | #009BD9 | 226 |\n",
       "| KRT86 | 15 | 378.7273 | 216.1332 | 3 | 1361 | 0.99998 | 3 | 0.48 | FALSE | #002F45 | 462 |\n",
       "| KRT86 | 16 | 389.6978 | 215.4735 | 4 | 1366 | 1.00000 | 1 | 0.94 | FALSE | #0083AA | 226 |\n",
       "| BECN1 |  7 | 386.7510 | 177.4740 | 5 |    0 | 1.00000 | 3 | 0.56 | FALSE | #730E7E | 600 |\n",
       "\n"
      ],
      "text/plain": [
       "  gene  cell x        y        molecule_id prior_segmentation confidence\n",
       "1 KRT86  8   381.2092 197.3803 1           2689               0.99996   \n",
       "2 KRT86 16   388.4400 219.5220 2           1366               1.00000   \n",
       "3 KRT86 15   378.7273 216.1332 3           1361               0.99998   \n",
       "4 KRT86 16   389.6978 215.4735 4           1366               1.00000   \n",
       "5 BECN1  7   386.7510 177.4740 5              0               1.00000   \n",
       "  cluster assignment_confidence is_noise ncv_color N  \n",
       "1 1       0.92                  FALSE    #00B7D3   205\n",
       "2 1       1.00                  FALSE    #009BD9   226\n",
       "3 3       0.48                  FALSE    #002F45   462\n",
       "4 1       0.94                  FALSE    #0083AA   226\n",
       "5 3       0.56                  FALSE    #730E7E   600"
      ]
     },
     "metadata": {},
     "output_type": "display_data"
    }
   ],
   "source": [
    "list.files('tmp')\n",
    "\n",
    "st_read_parquet('tmp/shapes.parquet') %>% head(5) %>% data.frame()\n",
    "fread('tmp/cells.csv', nrows = 5)\n",
    "spatula::readMM('tmp/counts.mtx')[1:5, 1:5]\n",
    "readLines('tmp/genes.tsv', n = 5)\n",
    "fread('tmp/transcripts.csv', nrows = 5)"
   ]
  },
  {
   "cell_type": "code",
   "execution_count": null,
   "id": "2913c080-6ff4-40fc-9a4f-74dcf0b97a8c",
   "metadata": {},
   "outputs": [],
   "source": []
  }
 ],
 "metadata": {
  "kernelspec": {
   "display_name": "R",
   "language": "R",
   "name": "r4.1.3"
  },
  "language_info": {
   "codemirror_mode": "r",
   "file_extension": ".r",
   "mimetype": "text/x-r-source",
   "name": "R",
   "pygments_lexer": "r",
   "version": "4.1.1"
  }
 },
 "nbformat": 4,
 "nbformat_minor": 5
}
